{
  "nbformat": 4,
  "nbformat_minor": 0,
  "metadata": {
    "colab": {
      "name": "HMM_Viterbi.ipynb",
      "provenance": [],
      "collapsed_sections": [
        "9SNuWx-ScSTg"
      ],
      "include_colab_link": true
    },
    "kernelspec": {
      "name": "python3",
      "display_name": "Python 3"
    }
  },
  "cells": [
    {
      "cell_type": "markdown",
      "metadata": {
        "id": "view-in-github",
        "colab_type": "text"
      },
      "source": [
        "<a href=\"https://colab.research.google.com/github/joooser/Natural_Language/blob/main/HMM_Viterbi.ipynb\" target=\"_parent\"><img src=\"https://colab.research.google.com/assets/colab-badge.svg\" alt=\"Open In Colab\"/></a>"
      ]
    },
    {
      "cell_type": "code",
      "metadata": {
        "id": "858EOFNBPxDs",
        "colab": {
          "base_uri": "https://localhost:8080/"
        },
        "outputId": "fe370432-0da0-4968-cafd-09dfdf16f68b"
      },
      "source": [
        "# instalacion de dependencias previas\n",
        "!pip install conllu\n",
        "!git clone https://github.com/UniversalDependencies/UD_Spanish-AnCora.git"
      ],
      "execution_count": 21,
      "outputs": [
        {
          "output_type": "stream",
          "name": "stdout",
          "text": [
            "Looking in indexes: https://pypi.org/simple, https://us-python.pkg.dev/colab-wheels/public/simple/\n",
            "Requirement already satisfied: conllu in /usr/local/lib/python3.7/dist-packages (4.5.2)\n",
            "fatal: destination path 'UD_Spanish-AnCora' already exists and is not an empty directory.\n"
          ]
        }
      ]
    },
    {
      "cell_type": "markdown",
      "metadata": {
        "id": "cAHDLyQQcboh"
      },
      "source": [
        "# Carga del modelo HMM previamente entrenado"
      ]
    },
    {
      "cell_type": "code",
      "metadata": {
        "id": "9jwZedC6RVJy"
      },
      "source": [
        "# cargamos las probabilidades del modelo HMM\n",
        "import numpy as np\n",
        "transitionProbdict = np.load('transitionHMM.npy', allow_pickle='TRUE').item()\n",
        "emissionProbdict = np.load('emissionHMM.npy', allow_pickle='TRUE').item()"
      ],
      "execution_count": 22,
      "outputs": []
    },
    {
      "cell_type": "code",
      "metadata": {
        "id": "Ezi9gcquUw55",
        "colab": {
          "base_uri": "https://localhost:8080/"
        },
        "outputId": "2e1122f0-a4b5-4df9-dd61-80a786fdbf2d"
      },
      "source": [
        "# identificamos las categorias gramaticales 'upos' unicas en el corpus\n",
        "stateSet = set([w.split('|')[1] for w in list(emissionProbdict.keys())])\n",
        "stateSet"
      ],
      "execution_count": 23,
      "outputs": [
        {
          "output_type": "execute_result",
          "data": {
            "text/plain": [
              "{'ADJ',\n",
              " 'ADP',\n",
              " 'ADV',\n",
              " 'AUX',\n",
              " 'CCONJ',\n",
              " 'DET',\n",
              " 'INTJ',\n",
              " 'NOUN',\n",
              " 'NUM',\n",
              " 'PART',\n",
              " 'PRON',\n",
              " 'PROPN',\n",
              " 'PUNCT',\n",
              " 'SCONJ',\n",
              " 'SYM',\n",
              " 'VERB',\n",
              " '_'}"
            ]
          },
          "metadata": {},
          "execution_count": 23
        }
      ]
    },
    {
      "cell_type": "code",
      "metadata": {
        "id": "-aVD0jboWKGh",
        "colab": {
          "base_uri": "https://localhost:8080/"
        },
        "outputId": "2561f102-0ef0-4dd1-a7a1-53d761656d2a"
      },
      "source": [
        "# enumeramos las categorias con numeros para asignar a \n",
        "# las columnas de la matriz de Viterbi\n",
        "tagStateDict = {}\n",
        "for i, state in enumerate(stateSet):\n",
        "  tagStateDict[state] = i\n",
        "tagStateDict"
      ],
      "execution_count": 24,
      "outputs": [
        {
          "output_type": "execute_result",
          "data": {
            "text/plain": [
              "{'PUNCT': 0,\n",
              " 'NUM': 1,\n",
              " 'PRON': 2,\n",
              " 'INTJ': 3,\n",
              " 'VERB': 4,\n",
              " 'CCONJ': 5,\n",
              " 'AUX': 6,\n",
              " 'SYM': 7,\n",
              " 'NOUN': 8,\n",
              " '_': 9,\n",
              " 'ADV': 10,\n",
              " 'PART': 11,\n",
              " 'DET': 12,\n",
              " 'SCONJ': 13,\n",
              " 'PROPN': 14,\n",
              " 'ADJ': 15,\n",
              " 'ADP': 16}"
            ]
          },
          "metadata": {},
          "execution_count": 24
        }
      ]
    },
    {
      "cell_type": "markdown",
      "metadata": {
        "id": "9SNuWx-ScSTg"
      },
      "source": [
        "# Distribucion inicial de estados latentes"
      ]
    },
    {
      "cell_type": "code",
      "metadata": {
        "id": "put9Dyk1Yl2A",
        "colab": {
          "base_uri": "https://localhost:8080/"
        },
        "outputId": "c17d933d-2fa8-4cbf-e731-c9cad0582d1c"
      },
      "source": [
        "# Calculamos distribución inicial de estados\n",
        "initTagStateProb = {} # \\rho_i^{(0)}\n",
        "from conllu import parse_incr \n",
        "wordList = []\n",
        "data_file = open(\"UD_Spanish-AnCora/es_ancora-ud-dev.conllu\", \"r\", encoding=\"utf-8\")\n",
        "count = 0 # cuenta la longitud del corpus\n",
        "for tokenlist in parse_incr(data_file):\n",
        "  count += 1\n",
        "  tag = tokenlist[0]['upos']\n",
        "  if tag in initTagStateProb.keys():\n",
        "    initTagStateProb[tag] += 1\n",
        "  else:\n",
        "    initTagStateProb[tag] = 1\n",
        "\n",
        "for key in initTagStateProb.keys():\n",
        "  initTagStateProb[key] /= count\n",
        "\n",
        "initTagStateProb"
      ],
      "execution_count": 25,
      "outputs": [
        {
          "output_type": "execute_result",
          "data": {
            "text/plain": [
              "{'DET': 0.36275695284159615,\n",
              " 'PROPN': 0.1124546553808948,\n",
              " 'ADP': 0.15538089480048367,\n",
              " 'PRON': 0.06348246674727932,\n",
              " 'SCONJ': 0.02418379685610641,\n",
              " 'ADV': 0.056831922611850064,\n",
              " 'PUNCT': 0.08222490931076179,\n",
              " 'VERB': 0.021160822249093107,\n",
              " 'ADJ': 0.010882708585247884,\n",
              " 'CCONJ': 0.032648125755743655,\n",
              " 'NOUN': 0.02720677146311971,\n",
              " '_': 0.009068923821039904,\n",
              " 'INTJ': 0.0006045949214026602,\n",
              " 'AUX': 0.019347037484885126,\n",
              " 'NUM': 0.01995163240628779,\n",
              " 'PART': 0.0018137847642079807}"
            ]
          },
          "metadata": {},
          "execution_count": 25
        }
      ]
    },
    {
      "cell_type": "code",
      "metadata": {
        "id": "J5Rltqj6bbcV",
        "colab": {
          "base_uri": "https://localhost:8080/"
        },
        "outputId": "10f0113d-348a-461e-c134-2a5517b17476"
      },
      "source": [
        "# verificamos que la suma de las probabilidades es 1 (100%)\n",
        "np.array([initTagStateProb[k] for k in initTagStateProb.keys()]).sum()"
      ],
      "execution_count": 26,
      "outputs": [
        {
          "output_type": "execute_result",
          "data": {
            "text/plain": [
              "1.0"
            ]
          },
          "metadata": {},
          "execution_count": 26
        }
      ]
    },
    {
      "cell_type": "markdown",
      "metadata": {
        "id": "YjnAshwzxrKZ"
      },
      "source": [
        "# Construcción del algoritmo de Viterbi\n",
        "\n",
        "\n",
        "\n",
        "\n"
      ]
    },
    {
      "cell_type": "markdown",
      "metadata": {
        "id": "zX-_MnPexnm0"
      },
      "source": [
        "Dada una secuencia de palabras $\\{p_1, p_2, \\dots, p_n \\}$, y un conjunto de categorias gramaticales dadas por la convención `upos`, se considera la matriz de probabilidades de Viterbi así:\n",
        "\n",
        "$$\n",
        "\\begin{array}{c c}\n",
        "\\begin{array}{c c c c}\n",
        "\\text{ADJ} \\\\\n",
        "\\text{ADV}\\\\\n",
        "\\text{PRON} \\\\\n",
        "\\vdots \\\\\n",
        "{}\n",
        "\\end{array} \n",
        "&\n",
        "\\left[\n",
        "\\begin{array}{c c c c}\n",
        "\\nu_1(\\text{ADJ}) & \\nu_2(\\text{ADJ}) & \\dots  & \\nu_n(\\text{ADJ})\\\\\n",
        "\\nu_1(\\text{ADV}) & \\nu_2(\\text{ADV}) & \\dots  & \\nu_n(\\text{ADV})\\\\ \n",
        "\\nu_1(\\text{PRON}) & \\nu_2(\\text{PRON}) & \\dots  & \\nu_n(\\text{PRON})\\\\\n",
        "\\vdots & \\vdots & \\dots & \\vdots \\\\ \\hdashline\n",
        "p_1 & p_2 & \\dots & p_n \n",
        "\\end{array}\n",
        "\\right] \n",
        "\\end{array}\n",
        "$$\n",
        "\n",
        "Donde las probabilidades de la primera columna (para una categoria $i$) están dadas por: \n",
        "\n",
        "$$\n",
        "\\nu_1(i) = \\underbrace{\\rho_i^{(0)}}_{\\text{probabilidad inicial}} \\times \\underbrace{P(p_1 \\vert i)}_{\\text{emisión}}\n",
        "$$\n",
        "\n",
        "luego, para la segunda columna (dada una categoria $j$) serán: \n",
        "\n",
        "$$\n",
        "\\nu_2(j) = \\max_i \\{ \\nu_1(i) \\times \\underbrace{P(j \\vert i)}_{\\text{transición}} \\times \\underbrace{P(p_2 \\vert j)}_{\\text{emisión}} \\}\n",
        "$$\n",
        "\n",
        "así, en general las probabilidades para la columna $t$ estarán dadas por: \n",
        "\n",
        "$$\n",
        "\\nu_{t}(j) = \\max_i \\{ \\overbrace{\\nu_{t-1}(i)}^{\\text{estado anterior}} \\times \\underbrace{P(j \\vert i)}_{\\text{transición}} \\times \\underbrace{P(p_t \\vert j)}_{\\text{emisión}} \\}\n",
        "$$"
      ]
    },
    {
      "cell_type": "code",
      "metadata": {
        "id": "rAyO788xPKra",
        "colab": {
          "base_uri": "https://localhost:8080/"
        },
        "outputId": "1d972f64-b9c2-4278-a1d1-5c64bd6c2c04"
      },
      "source": [
        "import nltk\n",
        "nltk.download('punkt')\n",
        "from nltk import word_tokenize"
      ],
      "execution_count": 27,
      "outputs": [
        {
          "output_type": "stream",
          "name": "stderr",
          "text": [
            "[nltk_data] Downloading package punkt to /root/nltk_data...\n",
            "[nltk_data]   Package punkt is already up-to-date!\n"
          ]
        }
      ]
    },
    {
      "cell_type": "code",
      "metadata": {
        "id": "9sJhQ35m5ASB",
        "colab": {
          "base_uri": "https://localhost:8080/"
        },
        "outputId": "15004dd4-c07a-4a7c-8705-02eb952e3b6e"
      },
      "source": [
        "def ViterbiMatrix(secuencia, transitionProbdict=transitionProbdict, emissionProbdict=emissionProbdict, \n",
        "            tagStateDict=tagStateDict, initTagStateProb=initTagStateProb):\n",
        "  seq = word_tokenize(secuencia)\n",
        "  viterbiProb = np.zeros((17, len(seq)))  # upos tiene 17 categorias\n",
        "\n",
        "  # inicialización primera columna\n",
        "  for key in tagStateDict.keys():\n",
        "    tag_row = tagStateDict[key]\n",
        "    word_tag = seq[0].lower()+'|'+key\n",
        "    if word_tag in emissionProbdict.keys():\n",
        "      viterbiProb[tag_row, 0] = initTagStateProb[key]*emissionProbdict[word_tag]\n",
        "\n",
        "  # computo de las siguientes columnas\n",
        "  for col in range(1, len(seq)):\n",
        "    for key in tagStateDict.keys():\n",
        "      tag_row = tagStateDict[key]\n",
        "      word_tag = seq[col].lower()+'|'+key\n",
        "      if word_tag in emissionProbdict.keys():\n",
        "        # miramos estados de la col anterior\n",
        "        possible_probs = []\n",
        "        for key2 in tagStateDict.keys(): \n",
        "          tag_row2 = tagStateDict[key2]\n",
        "          tag_prevtag = key+'|'+key2\n",
        "          if tag_prevtag in transitionProbdict.keys():\n",
        "            if viterbiProb[tag_row2, col-1]>0:\n",
        "              possible_probs.append(\n",
        "                  viterbiProb[tag_row2, col-1]*transitionProbdict[tag_prevtag]*emissionProbdict[word_tag])\n",
        "        viterbiProb[tag_row, col] = max(possible_probs)\n",
        "  \n",
        "  return viterbiProb\n",
        "\n",
        "matrix = ViterbiMatrix('el mundo es pequeño')\n",
        "matrix"
      ],
      "execution_count": 28,
      "outputs": [
        {
          "output_type": "execute_result",
          "data": {
            "text/plain": [
              "array([[0.00000000e+00, 0.00000000e+00, 0.00000000e+00, 0.00000000e+00],\n",
              "       [0.00000000e+00, 0.00000000e+00, 0.00000000e+00, 0.00000000e+00],\n",
              "       [0.00000000e+00, 0.00000000e+00, 0.00000000e+00, 0.00000000e+00],\n",
              "       [0.00000000e+00, 0.00000000e+00, 0.00000000e+00, 0.00000000e+00],\n",
              "       [0.00000000e+00, 0.00000000e+00, 0.00000000e+00, 0.00000000e+00],\n",
              "       [0.00000000e+00, 0.00000000e+00, 6.87234397e-09, 0.00000000e+00],\n",
              "       [0.00000000e+00, 0.00000000e+00, 6.64676609e-07, 0.00000000e+00],\n",
              "       [0.00000000e+00, 0.00000000e+00, 0.00000000e+00, 0.00000000e+00],\n",
              "       [0.00000000e+00, 2.01443186e-04, 3.98147040e-10, 0.00000000e+00],\n",
              "       [0.00000000e+00, 0.00000000e+00, 0.00000000e+00, 0.00000000e+00],\n",
              "       [0.00000000e+00, 0.00000000e+00, 0.00000000e+00, 0.00000000e+00],\n",
              "       [0.00000000e+00, 0.00000000e+00, 0.00000000e+00, 0.00000000e+00],\n",
              "       [1.24617364e-01, 0.00000000e+00, 0.00000000e+00, 0.00000000e+00],\n",
              "       [0.00000000e+00, 0.00000000e+00, 0.00000000e+00, 0.00000000e+00],\n",
              "       [0.00000000e+00, 3.72802611e-05, 0.00000000e+00, 0.00000000e+00],\n",
              "       [0.00000000e+00, 0.00000000e+00, 0.00000000e+00, 1.40001285e-10],\n",
              "       [0.00000000e+00, 0.00000000e+00, 0.00000000e+00, 0.00000000e+00]])"
            ]
          },
          "metadata": {},
          "execution_count": 28
        }
      ]
    },
    {
      "cell_type": "code",
      "metadata": {
        "id": "J9CYMtNpuoKq",
        "colab": {
          "base_uri": "https://localhost:8080/"
        },
        "outputId": "416291de-aa4e-464f-f3ec-74e4dcd6451e"
      },
      "source": [
        "def ViterbiTags(secuencia, transitionProbdict=transitionProbdict, emissionProbdict=emissionProbdict, \n",
        "            tagStateDict=tagStateDict, initTagStateProb=initTagStateProb):\n",
        "  seq = word_tokenize(secuencia)\n",
        "  viterbiProb = np.zeros((17, len(seq)))  # upos tiene 17 categorias\n",
        "\n",
        "  # inicialización primera columna\n",
        "  for key in tagStateDict.keys():\n",
        "    tag_row = tagStateDict[key]\n",
        "    word_tag = seq[0].lower()+'|'+key\n",
        "    if word_tag in emissionProbdict.keys():\n",
        "      viterbiProb[tag_row, 0] = initTagStateProb[key]*emissionProbdict[word_tag]\n",
        "\n",
        "  # computo de las siguientes columnas\n",
        "  for col in range(1, len(seq)):\n",
        "    for key in tagStateDict.keys():\n",
        "      tag_row = tagStateDict[key]\n",
        "      word_tag = seq[col].lower()+'|'+key\n",
        "      if word_tag in emissionProbdict.keys():\n",
        "        # miramos estados de la col anterior\n",
        "        possible_probs = []\n",
        "        for key2 in tagStateDict.keys(): \n",
        "          tag_row2 = tagStateDict[key2]\n",
        "          tag_prevtag = key+'|'+key2\n",
        "          if tag_prevtag in transitionProbdict.keys():\n",
        "            if viterbiProb[tag_row2, col-1]>0:\n",
        "              possible_probs.append(\n",
        "                  viterbiProb[tag_row2, col-1]*transitionProbdict[tag_prevtag]*emissionProbdict[word_tag])\n",
        "        viterbiProb[tag_row, col] = max(possible_probs)\n",
        "\n",
        "    # contruccion de secuencia de tags\n",
        "    res = []\n",
        "    for i, p in enumerate(seq):\n",
        "      for tag in tagStateDict.keys():\n",
        "        if tagStateDict[tag] == np.argmax(viterbiProb[:, i]):\n",
        "          res.append((p, tag))\n",
        "      \n",
        "  return res\n",
        "\n",
        "ViterbiTags('el mundo es muy pequeño')"
      ],
      "execution_count": 29,
      "outputs": [
        {
          "output_type": "execute_result",
          "data": {
            "text/plain": [
              "[('el', 'DET'),\n",
              " ('mundo', 'NOUN'),\n",
              " ('es', 'AUX'),\n",
              " ('muy', 'ADV'),\n",
              " ('pequeño', 'ADJ')]"
            ]
          },
          "metadata": {},
          "execution_count": 29
        }
      ]
    },
    {
      "cell_type": "code",
      "metadata": {
        "id": "FwOk8ABlx13k",
        "colab": {
          "base_uri": "https://localhost:8080/"
        },
        "outputId": "d76db1d6-ab1f-4a51-af71-6e41bb78ef3d"
      },
      "source": [
        "ViterbiTags('estos instrumentos han de rasgar')"
      ],
      "execution_count": 30,
      "outputs": [
        {
          "output_type": "execute_result",
          "data": {
            "text/plain": [
              "[('estos', 'DET'),\n",
              " ('instrumentos', 'NOUN'),\n",
              " ('han', 'AUX'),\n",
              " ('de', 'ADP'),\n",
              " ('rasgar', 'VERB')]"
            ]
          },
          "metadata": {},
          "execution_count": 30
        }
      ]
    },
    {
      "cell_type": "markdown",
      "metadata": {
        "id": "BnLT12Qx5D78"
      },
      "source": [
        "# Entrenamiento directo de HMM con NLTK\n",
        "\n",
        "* clase en python (NLTK) de HMM: https://www.nltk.org/_modules/nltk/tag/hmm.html"
      ]
    },
    {
      "cell_type": "code",
      "metadata": {
        "id": "NVyCuawh5Eqj",
        "colab": {
          "base_uri": "https://localhost:8080/"
        },
        "outputId": "879976a7-1a18-48f0-fec3-8b01bb2826b8"
      },
      "source": [
        "#@title ejemplo con el Corpus Treebank en ingles\n",
        "import nltk\n",
        "nltk.download('treebank')\n",
        "from nltk.corpus import treebank\n",
        "train_data = treebank.tagged_sents()[:3900]"
      ],
      "execution_count": 31,
      "outputs": [
        {
          "output_type": "stream",
          "name": "stderr",
          "text": [
            "[nltk_data] Downloading package treebank to /root/nltk_data...\n",
            "[nltk_data]   Package treebank is already up-to-date!\n"
          ]
        }
      ]
    },
    {
      "cell_type": "code",
      "metadata": {
        "id": "C_DomEIM5Hif",
        "colab": {
          "base_uri": "https://localhost:8080/"
        },
        "outputId": "7662d2f8-5d1a-4c92-e183-8080c25d399d"
      },
      "source": [
        "#@title estructura de la data de entrenamiento\n",
        "train_data"
      ],
      "execution_count": 32,
      "outputs": [
        {
          "output_type": "execute_result",
          "data": {
            "text/plain": [
              "[[('Pierre', 'NNP'), ('Vinken', 'NNP'), (',', ','), ('61', 'CD'), ('years', 'NNS'), ('old', 'JJ'), (',', ','), ('will', 'MD'), ('join', 'VB'), ('the', 'DT'), ('board', 'NN'), ('as', 'IN'), ('a', 'DT'), ('nonexecutive', 'JJ'), ('director', 'NN'), ('Nov.', 'NNP'), ('29', 'CD'), ('.', '.')], [('Mr.', 'NNP'), ('Vinken', 'NNP'), ('is', 'VBZ'), ('chairman', 'NN'), ('of', 'IN'), ('Elsevier', 'NNP'), ('N.V.', 'NNP'), (',', ','), ('the', 'DT'), ('Dutch', 'NNP'), ('publishing', 'VBG'), ('group', 'NN'), ('.', '.')], ...]"
            ]
          },
          "metadata": {},
          "execution_count": 32
        }
      ]
    },
    {
      "cell_type": "code",
      "metadata": {
        "id": "WtknnYIi5KdG",
        "colab": {
          "base_uri": "https://localhost:8080/"
        },
        "outputId": "c3de43c0-dff5-446f-9e49-0b5d71592867"
      },
      "source": [
        "#@title HMM pre-construido en NLTK\n",
        "from nltk.tag import hmm\n",
        "tagger = hmm.HiddenMarkovModelTrainer().train_supervised(train_data)\n",
        "tagger"
      ],
      "execution_count": 33,
      "outputs": [
        {
          "output_type": "execute_result",
          "data": {
            "text/plain": [
              "<HiddenMarkovModelTagger 46 states and 12385 output symbols>"
            ]
          },
          "metadata": {},
          "execution_count": 33
        }
      ]
    },
    {
      "cell_type": "code",
      "metadata": {
        "id": "tLG-QzKc5OM4",
        "colab": {
          "base_uri": "https://localhost:8080/"
        },
        "outputId": "624bdad1-1d7f-4790-9e4a-4589b97c0dae"
      },
      "source": [
        "tagger.tag(\"Pierre Vinken will get old\".split())"
      ],
      "execution_count": 34,
      "outputs": [
        {
          "output_type": "execute_result",
          "data": {
            "text/plain": [
              "[('Pierre', 'NNP'),\n",
              " ('Vinken', 'NNP'),\n",
              " ('will', 'MD'),\n",
              " ('get', 'VB'),\n",
              " ('old', 'JJ')]"
            ]
          },
          "metadata": {},
          "execution_count": 34
        }
      ]
    },
    {
      "cell_type": "code",
      "metadata": {
        "id": "aGLYRUBb5Wni",
        "colab": {
          "base_uri": "https://localhost:8080/"
        },
        "outputId": "2533f0c0-1afc-4b84-f766-137821d1e8be"
      },
      "source": [
        "#@title training accuracy\n",
        "tagger.evaluate(treebank.tagged_sents()[:3900])"
      ],
      "execution_count": 35,
      "outputs": [
        {
          "output_type": "stream",
          "name": "stderr",
          "text": [
            "/usr/local/lib/python3.7/dist-packages/ipykernel_launcher.py:2: DeprecationWarning: \n",
            "  Function evaluate() has been deprecated.  Use accuracy(gold)\n",
            "  instead.\n",
            "  \n"
          ]
        },
        {
          "output_type": "execute_result",
          "data": {
            "text/plain": [
              "0.9815403947224078"
            ]
          },
          "metadata": {},
          "execution_count": 35
        }
      ]
    },
    {
      "cell_type": "markdown",
      "metadata": {
        "id": "FN-Bgfk-pI0m"
      },
      "source": [
        "## Ejercicio de práctica\n",
        "\n",
        "**Objetivo:** Entrena un HMM usando la clase `hmm.HiddenMarkovModelTrainer()` sobre el dataset `UD_Spanish_AnCora`."
      ]
    },
    {
      "cell_type": "markdown",
      "metadata": {
        "id": "ZrtTL4ihxfiq"
      },
      "source": [
        "1. **Pre-procesamiento:** En el ejemplo anterior usamos el dataset en ingles `treebank`, el cual viene con una estructura diferente a la de `AnCora`, en esta parte escribe código para transformar la estructura de `AnCora` de manera que quede igual al `treebank` que usamos así:\n",
        "\n",
        "$$\\left[ \\left[ (\\text{'El'}, \\text{'DET'}), (\\dots), \\dots\\right], \\left[\\dots \\right] \\right]$$"
      ]
    },
    {
      "cell_type": "code",
      "metadata": {
        "id": "1X8qg5Fc5ahS",
        "colab": {
          "base_uri": "https://localhost:8080/"
        },
        "outputId": "18f1b65d-1473-4156-ffba-158b1bfa6fcc"
      },
      "source": [
        "# desarrolla tu código aquí \n",
        "!pip install conllu\n",
        "from conllu import parse_incr \n",
        "data_file = open(\"UD_Spanish-AnCora/es_ancora-ud-dev.conllu\", \"r\", encoding=\"utf-8\") "
      ],
      "execution_count": 36,
      "outputs": [
        {
          "output_type": "stream",
          "name": "stdout",
          "text": [
            "Looking in indexes: https://pypi.org/simple, https://us-python.pkg.dev/colab-wheels/public/simple/\n",
            "Requirement already satisfied: conllu in /usr/local/lib/python3.7/dist-packages (4.5.2)\n"
          ]
        }
      ]
    },
    {
      "cell_type": "markdown",
      "metadata": {
        "id": "W_OYeCVQrZAK"
      },
      "source": [
        "2. **Entrenamiento:** Una vez que el dataset esta con la estructura correcta, utiliza la clase `hmm.HiddenMarkovModelTrainer()` para entrenar con el $80 \\%$ del dataset como conjunto de `entrenamiento` y $20 \\%$ para el conjunto de `test`.\n",
        "\n",
        "**Ayuda:** Para la separacion entre conjuntos de entrenamiento y test, puedes usar la funcion de Scikit Learn: \n",
        "\n",
        "https://scikit-learn.org/stable/modules/generated/sklearn.model_selection.train_test_split.html\n",
        "\n",
        "En este punto el curso de Machine Learning con Scikit Learn es un buen complemento para entender mejor las funcionalidades de Scikit Learn: https://platzi.com/cursos/scikitlearn-ml/ "
      ]
    },
    {
      "cell_type": "code",
      "metadata": {
        "id": "DZpAIB87sTqL",
        "colab": {
          "base_uri": "https://localhost:8080/"
        },
        "outputId": "39c54751-4f5f-43f8-f00b-2438ec64e66a"
      },
      "source": [
        "# desarrolla tu código aquí\n",
        "!git clone https://github.com/UniversalDependencies/UD_Spanish-AnCora.git\n",
        "\n",
        "# Hacemos la transformacion del corpus al formato requerido\n",
        "wordList = []\n",
        "for tokenlist in parse_incr(data_file): \n",
        "  wordList2 = []\n",
        "  for token in tokenlist:\n",
        "    tag = token['upos']\n",
        "    valor = token['form']\n",
        "    wordList2.append((valor,tag)) \n",
        "  wordList.append(wordList2)\n",
        "\n",
        "import nltk\n",
        "from nltk.tag import hmm\n",
        "from sklearn.model_selection import train_test_split\n",
        "\n",
        "# Separamos el corpus\n",
        "wordList_train, wordList_test= train_test_split(wordList, test_size=0.20, random_state=42)\n",
        "\n",
        "# Entrenamos el modelo\n",
        "tagger = hmm.HiddenMarkovModelTrainer().train_supervised(wordList_train)\n",
        "tagger\n",
        "\n",
        "print(tagger.evaluate(wordList_test))\n",
        "print(tagger.evaluate(wordList_train))"
      ],
      "execution_count": 38,
      "outputs": [
        {
          "output_type": "stream",
          "name": "stdout",
          "text": [
            "fatal: destination path 'UD_Spanish-AnCora' already exists and is not an empty directory.\n"
          ]
        },
        {
          "output_type": "stream",
          "name": "stderr",
          "text": [
            "/usr/local/lib/python3.7/dist-packages/ipykernel_launcher.py:25: DeprecationWarning: \n",
            "  Function evaluate() has been deprecated.  Use accuracy(gold)\n",
            "  instead.\n"
          ]
        },
        {
          "output_type": "stream",
          "name": "stdout",
          "text": [
            "0.2773140078891845\n"
          ]
        },
        {
          "output_type": "stream",
          "name": "stderr",
          "text": [
            "/usr/local/lib/python3.7/dist-packages/ipykernel_launcher.py:26: DeprecationWarning: \n",
            "  Function evaluate() has been deprecated.  Use accuracy(gold)\n",
            "  instead.\n"
          ]
        },
        {
          "output_type": "stream",
          "name": "stdout",
          "text": [
            "0.9858684192817568\n"
          ]
        }
      ]
    },
    {
      "cell_type": "markdown",
      "metadata": {
        "id": "LLS54wqsu9OK"
      },
      "source": [
        "3. **Validación del modelo:** Un vez entrenado el `tagger`, calcula el rendimiento del modelo (usando `tagger.evaluate()`) para los conjuntos de `entrenamiento` y `test`.\n",
        "\n"
      ]
    },
    {
      "cell_type": "code",
      "metadata": {
        "id": "JEwZIG8Du98v"
      },
      "source": [
        "#desarrolla tu código aquí\n"
      ],
      "execution_count": null,
      "outputs": []
    }
  ]
}