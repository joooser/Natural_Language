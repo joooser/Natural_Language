{
  "nbformat": 4,
  "nbformat_minor": 0,
  "metadata": {
    "colab": {
      "name": "codigo_estructurado.ipynb",
      "provenance": [],
      "collapsed_sections": [],
      "include_colab_link": true
    },
    "kernelspec": {
      "name": "python3",
      "display_name": "Python 3"
    }
  },
  "cells": [
    {
      "cell_type": "markdown",
      "metadata": {
        "id": "view-in-github",
        "colab_type": "text"
      },
      "source": [
        "<a href=\"https://colab.research.google.com/github/joooser/Natural_Language/blob/main/codigo_estructurado.ipynb\" target=\"_parent\"><img src=\"https://colab.research.google.com/assets/colab-badge.svg\" alt=\"Open In Colab\"/></a>"
      ]
    },
    {
      "cell_type": "markdown",
      "metadata": {
        "id": "HbxoxFzHTnPk"
      },
      "source": [
        "# Configuracion inicial"
      ]
    },
    {
      "cell_type": "code",
      "metadata": {
        "id": "mvbxFezVTkuf",
        "colab": {
          "base_uri": "https://localhost:8080/"
        },
        "outputId": "765f0f95-d9cf-469a-b9c6-fe21affcea86"
      },
      "source": [
        "from google.colab import drive\n",
        "drive.mount('/content/drive')\n",
        "filepath = '/content/drive/My Drive/NLP_course_resources/'"
      ],
      "execution_count": 4,
      "outputs": [
        {
          "output_type": "stream",
          "name": "stdout",
          "text": [
            "Drive already mounted at /content/drive; to attempt to forcibly remount, call drive.mount(\"/content/drive\", force_remount=True).\n"
          ]
        }
      ]
    },
    {
      "cell_type": "markdown",
      "metadata": {
        "id": "QVp6TRMiRfL-"
      },
      "source": [
        "# Construyendo codigo estructurado (con funciones)"
      ]
    },
    {
      "cell_type": "markdown",
      "metadata": {
        "id": "JEXJxspZWDQc"
      },
      "source": [
        "## Ejemplo 1:"
      ]
    },
    {
      "cell_type": "code",
      "metadata": {
        "id": "p6JqVTNdQ6yc"
      },
      "source": [
        "import re\n",
        "\n",
        "# la funcion la podemos definir en el notebook y usar directamente\n",
        "def get_text(file):\n",
        "  '''Read Text from file'''\n",
        "  text = open(file).read()\n",
        "  text = re.sub(r'<.*?>', ' ', text)\n",
        "  text = re.sub(r'\\s+', ' ', text)\n",
        "  return text"
      ],
      "execution_count": 2,
      "outputs": []
    },
    {
      "cell_type": "code",
      "metadata": {
        "id": "g3ufwrV1TbsA"
      },
      "source": [
        "text = get_text(filepath+'book.txt')"
      ],
      "execution_count": 5,
      "outputs": []
    },
    {
      "cell_type": "code",
      "metadata": {
        "id": "9ZqscA5bVDW9"
      },
      "source": [
        "# será mas comodo definir la funcion dentro de una libreria externa\n",
        "!touch /content/drive/MyDrive/NLP_course_resources/read.py"
      ],
      "execution_count": 8,
      "outputs": []
    },
    {
      "cell_type": "code",
      "metadata": {
        "id": "wVvxmx9pVf1E",
        "colab": {
          "base_uri": "https://localhost:8080/"
        },
        "outputId": "21cb4c2f-cefc-470a-c783-d39e194b0f14"
      },
      "source": [
        "import sys\n",
        "sys.path.append(filepath)\n",
        "sys.path\n"
      ],
      "execution_count": 19,
      "outputs": [
        {
          "output_type": "execute_result",
          "data": {
            "text/plain": [
              "['',\n",
              " '/content',\n",
              " '/env/python',\n",
              " '/usr/lib/python37.zip',\n",
              " '/usr/lib/python3.7',\n",
              " '/usr/lib/python3.7/lib-dynload',\n",
              " '/usr/local/lib/python3.7/dist-packages',\n",
              " '/usr/lib/python3/dist-packages',\n",
              " '/usr/local/lib/python3.7/dist-packages/IPython/extensions',\n",
              " '/root/.ipython',\n",
              " '/content/drive/My Drive/NLP_course_resources/',\n",
              " '/content/drive/My Drive/NLP_course_resources/',\n",
              " '/content/drive/My Drive/NLP_course_resources/',\n",
              " '/content/drive/My Drive/NLP_course_resources/',\n",
              " '/content/drive/My Drive/NLP_course_resources/',\n",
              " '/content/drive/My Drive/NLP_course_resources/',\n",
              " '/content/drive/My Drive/NLP_course_resources/',\n",
              " '/content/drive/My Drive/NLP_course_resources/',\n",
              " '/content/drive/My Drive/NLP_course_resources/',\n",
              " '/content/drive/My Drive/NLP_course_resources/']"
            ]
          },
          "metadata": {},
          "execution_count": 19
        }
      ]
    },
    {
      "cell_type": "code",
      "source": [
        "import read"
      ],
      "metadata": {
        "id": "kucJlIgyshvE"
      },
      "execution_count": 21,
      "outputs": []
    },
    {
      "cell_type": "code",
      "source": [
        "read.get_text(filepath+'book.txt')"
      ],
      "metadata": {
        "colab": {
          "base_uri": "https://localhost:8080/",
          "height": 172
        },
        "id": "mE1Piv5yuOzS",
        "outputId": "e07b359f-b6f5-4ba1-b72b-b0b0865b52fd"
      },
      "execution_count": 22,
      "outputs": [
        {
          "output_type": "error",
          "ename": "AttributeError",
          "evalue": "ignored",
          "traceback": [
            "\u001b[0;31m---------------------------------------------------------------------------\u001b[0m",
            "\u001b[0;31mAttributeError\u001b[0m                            Traceback (most recent call last)",
            "\u001b[0;32m<ipython-input-22-191efcb8d886>\u001b[0m in \u001b[0;36m<module>\u001b[0;34m()\u001b[0m\n\u001b[0;32m----> 1\u001b[0;31m \u001b[0mread\u001b[0m\u001b[0;34m.\u001b[0m\u001b[0mget_text\u001b[0m\u001b[0;34m(\u001b[0m\u001b[0mfilepath\u001b[0m\u001b[0;34m+\u001b[0m\u001b[0;34m'book.txt'\u001b[0m\u001b[0;34m)\u001b[0m\u001b[0;34m\u001b[0m\u001b[0;34m\u001b[0m\u001b[0m\n\u001b[0m",
            "\u001b[0;31mAttributeError\u001b[0m: module 'read' has no attribute 'get_text'"
          ]
        }
      ]
    },
    {
      "cell_type": "markdown",
      "metadata": {
        "id": "mgWxaS2EWLgo"
      },
      "source": [
        "# Ejemplo 2: "
      ]
    },
    {
      "cell_type": "code",
      "metadata": {
        "id": "MDsjuknzV4Qc"
      },
      "source": [
        "import nltk\n",
        "nltk.download('punkt')\n",
        "from urllib import request\n",
        "from bs4 import BeautifulSoup\n",
        "from nltk import word_tokenize\n",
        "\n",
        "# la funcion la podemos definir en el notebook y usar directamente\n",
        "def freq_words(url, n, encoding = 'utf8'):\n",
        "  req = request.urlopen(url)\n",
        "  html = req.read().decode(encoding)\n",
        "  raw = BeautifulSoup(html, 'html.parser')\n",
        "  text = raw.get_text()\n",
        "  tokens = word_tokenize(text)\n",
        "  tokens = [t.lower() for t in tokens]\n",
        "  fd = nltk.FreqDist(tokens)\n",
        "  return [t for (t, _) in fd.most_common(n)]"
      ],
      "execution_count": null,
      "outputs": []
    },
    {
      "cell_type": "code",
      "metadata": {
        "id": "WU3eHijQW75g"
      },
      "source": [
        "freq_words('https://www.gutenberg.org/files/2701/2701-h/2701-h.htm', 20)"
      ],
      "execution_count": null,
      "outputs": []
    },
    {
      "cell_type": "code",
      "metadata": {
        "id": "5vhmWNRnXCur"
      },
      "source": [
        "# será mas comodo definir la funcion dentro de una libreria externa\n",
        "!touch /content/drive/My\\ Drive/Colab\\ Notebooks/NLP_course_resources/nlp_utils.py"
      ],
      "execution_count": null,
      "outputs": []
    },
    {
      "cell_type": "code",
      "metadata": {
        "id": "O0-Nh7ZZXaZP"
      },
      "source": [
        "import nlp_utils\n",
        "nlp_utils.freq_words('https://www.gutenberg.org/files/2701/2701-h/2701-h.htm', 20)"
      ],
      "execution_count": null,
      "outputs": []
    },
    {
      "cell_type": "code",
      "metadata": {
        "id": "v_11CLDfXrBh"
      },
      "source": [
        ""
      ],
      "execution_count": null,
      "outputs": []
    }
  ]
}