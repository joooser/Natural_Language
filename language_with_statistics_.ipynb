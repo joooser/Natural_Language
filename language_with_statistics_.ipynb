{
  "nbformat": 4,
  "nbformat_minor": 0,
  "metadata": {
    "colab": {
      "name": "language_with_statistics_.ipynb",
      "provenance": [],
      "collapsed_sections": [],
      "toc_visible": true,
      "include_colab_link": true
    },
    "kernelspec": {
      "name": "python3",
      "display_name": "Python 3"
    }
  },
  "cells": [
    {
      "cell_type": "markdown",
      "metadata": {
        "id": "view-in-github",
        "colab_type": "text"
      },
      "source": [
        "<a href=\"https://colab.research.google.com/github/joooser/Natural_Language/blob/main/language_with_statistics_.ipynb\" target=\"_parent\"><img src=\"https://colab.research.google.com/assets/colab-badge.svg\" alt=\"Open In Colab\"/></a>"
      ]
    },
    {
      "cell_type": "markdown",
      "metadata": {
        "id": "TkRC37fK5Dgy"
      },
      "source": [
        "# Configuración Inicial"
      ]
    },
    {
      "cell_type": "code",
      "metadata": {
        "id": "VSj2Kb-g4laK"
      },
      "source": [
        "import nltk \n",
        "nltk.download('book')\n",
        "from nltk.book import *\n",
        "import matplotlib.pyplot as plt\n",
        "import numpy as np\n",
        "import pandas as pd\n",
        "import plotly.express as px"
      ],
      "execution_count": null,
      "outputs": []
    },
    {
      "cell_type": "markdown",
      "metadata": {
        "id": "c_O4LOql9DE2"
      },
      "source": [
        "#Bi-gramas\n",
        "* Parejas de palabras que ocurren consecutivas."
      ]
    },
    {
      "cell_type": "code",
      "metadata": {
        "id": "WerSeepu9J6a"
      },
      "source": [
        "md_bigrams = list(bigrams(text1))\n",
        "fdist = FreqDist(md_bigrams)\n",
        "md_bigrams[:10]"
      ],
      "execution_count": null,
      "outputs": []
    },
    {
      "cell_type": "markdown",
      "metadata": {
        "id": "x-bYnXwHk9Nh"
      },
      "source": [
        "Aqui podemos obtener los bi-gramas más frecuentes en este texto:"
      ]
    },
    {
      "cell_type": "code",
      "metadata": {
        "id": "hehIQHExkR9W"
      },
      "source": [
        "fdist.most_common(10)"
      ],
      "execution_count": null,
      "outputs": []
    },
    {
      "cell_type": "code",
      "metadata": {
        "id": "zFyQxISllDgX"
      },
      "source": [
        "fdist.plot(20)"
      ],
      "execution_count": null,
      "outputs": []
    },
    {
      "cell_type": "markdown",
      "metadata": {
        "id": "hdVJ-IG5lVkJ"
      },
      "source": [
        "## Filtrado de bi-gramas\n",
        "* Sin embargo, observamos que los bi-gramas más comunes no representan realmente frases o estructuras léxicas de interes.\n",
        "* Tal vez, aplicar algun tipo de filtro nos permita ver estructuras más relevantes."
      ]
    },
    {
      "cell_type": "code",
      "metadata": {
        "id": "GIFOQKSHnMib"
      },
      "source": [
        "threshold = 2\n",
        "filtered_bigrams = [bigram for bigram in md_bigrams if len(bigram[0])>threshold and len(bigram[1])>threshold]\n",
        "filtered_dist = FreqDist(filtered_bigrams)\n",
        "filtered_dist.plot(20)"
      ],
      "execution_count": null,
      "outputs": []
    },
    {
      "cell_type": "markdown",
      "metadata": {
        "id": "JAbaY3DapHzk"
      },
      "source": [
        "# Tri-gramas"
      ]
    },
    {
      "cell_type": "code",
      "metadata": {
        "id": "eE9ojvxvpOZ9"
      },
      "source": [
        "from nltk.util import ngrams\n",
        "md_trigrams = list(ngrams(text1,3))\n",
        "fdist = FreqDist(md_trigrams)\n",
        "md_trigrams[:10]"
      ],
      "execution_count": null,
      "outputs": []
    },
    {
      "cell_type": "code",
      "metadata": {
        "id": "FsjKpyrUqEpi"
      },
      "source": [
        "fdist.most_common(10)"
      ],
      "execution_count": null,
      "outputs": []
    },
    {
      "cell_type": "code",
      "metadata": {
        "id": "iGOyRLVqqIVS"
      },
      "source": [
        "fdist.plot(10)"
      ],
      "execution_count": null,
      "outputs": []
    },
    {
      "cell_type": "markdown",
      "metadata": {
        "id": "0F99OFag5QHW"
      },
      "source": [
        "# Collocations (Colocaciones)\n",
        "\n",
        "* Son secuencias de palabras que suelen ocurrir en textos o conversaciones con una **frecuencia inusualmente alta** [NLTK doc](http://www.nltk.org/book/ch01.html)\n",
        "* Las colocaciones de una palabra son declaraciones formales de donde suele ubicarse tipicamente esa palabra [Manning & Schütze, 1990, Foundations of Statistical Natural Language Processing, Capítulo 6](https://nlp.stanford.edu/fsnlp/)"
      ]
    },
    {
      "cell_type": "code",
      "metadata": {
        "id": "34x4NpnVndyo"
      },
      "source": [
        "md_bigrams = list(bigrams(text1))\n",
        "\n",
        "threshold = 2\n",
        "#distribution of bi-grams\n",
        "filtered_bigrams = [bigram for bigram in md_bigrams if len(bigram[0])>threshold and len(bigram[1])>threshold]\n",
        "filtered_bigram_dist = FreqDist(filtered_bigrams)\n",
        "#distribution of words\n",
        "filtered_words = [word for word in text1 if len(word)>threshold]\n",
        "filtered_word_dist = FreqDist(filtered_words)\n",
        "\n",
        "df = pd.DataFrame()\n",
        "df['bi_gram'] = list(set(filtered_bigrams))\n",
        "df['word_0'] = df['bi_gram'].apply(lambda x: x[0])\n",
        "df['word_1'] = df['bi_gram'].apply(lambda x: x[1])\n",
        "df['bi_gram_freq'] = df['bi_gram'].apply(lambda x: filtered_bigram_dist[x])\n",
        "df['word_0_freq'] = df['word_0'].apply(lambda x: filtered_word_dist[x])\n",
        "df['word_1_freq'] = df['word_1'].apply(lambda x: filtered_word_dist[x])\n",
        "df"
      ],
      "execution_count": null,
      "outputs": []
    },
    {
      "cell_type": "markdown",
      "metadata": {
        "id": "7E_gNms8s1Zo"
      },
      "source": [
        "# Pointwise Mutual Information (PMI)\n",
        "Una métrica basada en _teoria de la información_ para encontrar **Collocations**.\n",
        "\n",
        "$$\n",
        "PMI = \\log\\left(\\frac{P(w_1, w_2)}{P(w_1)P(w_2)}\\right)\n",
        "$$"
      ]
    },
    {
      "cell_type": "code",
      "metadata": {
        "id": "NlPVa4l5qASe"
      },
      "source": [
        "df['PMI'] = df[['bi_gram_freq', 'word_0_freq', 'word_1_freq']].apply(lambda x:np.log2(x.values[0]/(x.values[1]*x.values[2])), axis = 1)\n",
        "df['log(bi_gram_freq)'] = df['bi_gram_freq'].apply(lambda x: np.log2(x))\n",
        "df"
      ],
      "execution_count": null,
      "outputs": []
    },
    {
      "cell_type": "code",
      "metadata": {
        "id": "1DACToLnt0Bb"
      },
      "source": [
        "df.sort_values(by = 'PMI', ascending=False)"
      ],
      "execution_count": null,
      "outputs": []
    },
    {
      "cell_type": "code",
      "metadata": {
        "id": "15BzVJM3zFdy"
      },
      "source": [
        "fig = px.scatter(x = df['PMI'].values, y = df['log(bi_gram_freq)'].values, color = df['PMI']+df['log(bi_gram_freq)'], \n",
        "                 size = (df['PMI']+df['log(bi_gram_freq)']).apply(lambda x: 1/(1+abs(x))).values, \n",
        "                 hover_name = df['bi_gram'].values, width = 600, height = 600, labels = {'x': 'PMI', 'y': 'Log(Bigram Frequency)'})\n",
        "fig.show()"
      ],
      "execution_count": null,
      "outputs": []
    },
    {
      "cell_type": "markdown",
      "metadata": {
        "id": "G0a53wvZo673"
      },
      "source": [
        "# Medidas pre-construidas en NLTK"
      ]
    },
    {
      "cell_type": "code",
      "metadata": {
        "id": "PgzViJENnrx7"
      },
      "source": [
        "# ver documentación https://www.nltk.org/_modules/nltk/metrics/association.html\n",
        "from nltk.collocations import *\n",
        "bigram_measures = nltk.collocations.BigramAssocMeasures()\n",
        "finder = BigramCollocationFinder.from_words(text1)"
      ],
      "execution_count": null,
      "outputs": []
    },
    {
      "cell_type": "code",
      "metadata": {
        "id": "rUUtIcXZrD2V"
      },
      "source": [
        "finder.apply_freq_filter(20)\n",
        "finder.nbest(bigram_measures.pmi, 10)"
      ],
      "execution_count": null,
      "outputs": []
    },
    {
      "cell_type": "markdown",
      "metadata": {
        "id": "CWyDEBtZmCya"
      },
      "source": [
        "# Textos en Español "
      ]
    },
    {
      "cell_type": "code",
      "metadata": {
        "id": "Eo6Gm1ngmQKB"
      },
      "source": [
        "# descargamos corpus en español  https://mailman.uib.no/public/corpora/2007-October/005448.html\n",
        "nltk.download('cess_esp')\n",
        "corpus = nltk.corpus.cess_esp.sents() \n",
        "flatten_corpus = [w for l in corpus for w in l]"
      ],
      "execution_count": null,
      "outputs": []
    },
    {
      "cell_type": "code",
      "metadata": {
        "id": "HJYf0w0-m_t3"
      },
      "source": [
        "print(corpus[0])"
      ],
      "execution_count": null,
      "outputs": []
    },
    {
      "cell_type": "code",
      "metadata": {
        "id": "rRHahBiOoEvi"
      },
      "source": [
        "print(flatten_corpus[:50])"
      ],
      "execution_count": null,
      "outputs": []
    },
    {
      "cell_type": "code",
      "metadata": {
        "id": "HJWgwrzdoVD7"
      },
      "source": [
        "finder = BigramCollocationFinder.from_documents(corpus)\n",
        "finder.apply_freq_filter(10)\n",
        "finder.nbest(bigram_measures.pmi, 10)"
      ],
      "execution_count": null,
      "outputs": []
    },
    {
      "cell_type": "code",
      "metadata": {
        "id": "83Lb4GSk1Qh_"
      },
      "source": [
        ""
      ],
      "execution_count": null,
      "outputs": []
    },
    {
      "cell_type": "markdown",
      "metadata": {
        "id": "G30AGeOX2cCf"
      },
      "source": [
        "# Referencias para seguir aprendiendo\n",
        "\n",
        "\n",
        "*   [Mas sobre Colocaciones con NLTK](http://www.nltk.org/howto/collocations.html)\n",
        "*   \n",
        "\n"
      ]
    }
  ]
}